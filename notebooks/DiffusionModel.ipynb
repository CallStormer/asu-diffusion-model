{
 "cells": [
  {
   "cell_type": "markdown",
   "id": "08780730-7e4e-480f-a5ad-45e3bd17b5bc",
   "metadata": {},
   "source": [
    "# A 1D difusion model"
   ]
  },
  {
   "cell_type": "markdown",
   "id": "fd6f84f4-2b09-43dc-b8f9-6a859ed6aa02",
   "metadata": {},
   "source": [
    "here we develop a one-dimensional model of diffusion.\n",
    "it assumes a constant diffusivity.\n",
    "it uses a regular grid.\n",
    "it has a step function for an initial condition.\n",
    "it has fixed boundary conditions."
   ]
  },
  {
   "cell_type": "markdown",
   "id": "1c4d1b27-2ff1-4461-be51-098f8c879d5f",
   "metadata": {},
   "source": [
    "Here is the diffusion equation:"
   ]
  },
  {
   "cell_type": "markdown",
   "id": "ef65ad99-c57e-469b-a592-4969e5b4a640",
   "metadata": {},
   "source": [
    "$$ \\frac{\\partial C}{\\partial t} = D\\frac{\\partial^2 C}{\\partial x^2} $$"
   ]
  },
  {
   "cell_type": "markdown",
   "id": "21fcb871-2dc3-4629-a7b7-ad3c2f652abc",
   "metadata": {},
   "source": [
    "Here is the discretized version of the diffusion equation we will solve with our model:"
   ]
  },
  {
   "cell_type": "markdown",
   "id": "834585e9-63c3-4822-919f-8346df03e532",
   "metadata": {},
   "source": [
    "$$ C^{t+1}_x = C^t_x + {D \\Delta t \\over \\Delta x^2} (C^t_{x+1} - 2C^t_x + C^t_{x-1}) $$"
   ]
  },
  {
   "cell_type": "markdown",
   "id": "8b28f831-7963-4016-b913-85139b1b82c8",
   "metadata": {},
   "source": [
    "This is the FTCS scheme as described by slingerland and Kump (2011)."
   ]
  },
  {
   "cell_type": "markdown",
   "id": "013dd024-bebe-47d9-960b-f364f992803b",
   "metadata": {},
   "source": [
    "we'll use 2 librarys, numpy (for arrays) and Matplotlib (for plotting), that arent part of the core python distrabution."
   ]
  },
  {
   "cell_type": "code",
   "execution_count": null,
   "id": "1e86adbe-bc5c-407b-96a3-75cb43028560",
   "metadata": {},
   "outputs": [],
   "source": [
    "import numpy as np\n",
    "import matplotlib.pyplot as plt"
   ]
  },
  {
   "cell_type": "markdown",
   "id": "e1d5eac4-3285-4057-8cca-af010818bb1e",
   "metadata": {},
   "source": [
    "start by setting two fixed model parameters, the diffusivity and the size of the model domain."
   ]
  },
  {
   "cell_type": "code",
   "execution_count": null,
   "id": "46ee8f21-796b-4520-82d4-1a6c70ae28a7",
   "metadata": {},
   "outputs": [],
   "source": [
    "D = 110\n",
    "LX = 300"
   ]
  },
  {
   "cell_type": "markdown",
   "id": "45337c82-a6a4-4795-9830-bc7299dad42a",
   "metadata": {},
   "source": [
    "Next, set up the model grid using NumPy array."
   ]
  },
  {
   "cell_type": "code",
   "execution_count": null,
   "id": "89e8dd20-8e47-4626-bee8-7a1383ffa418",
   "metadata": {},
   "outputs": [],
   "source": [
    "dx = 0.5\n",
    "x = np.arange(start=0, stop=LX, step=dx)\n",
    "nx = len(x)"
   ]
  },
  {
   "cell_type": "markdown",
   "id": "3e8a6c59-50b1-4d2e-9485-ad0283fa2972",
   "metadata": {},
   "source": [
    "set the initial conditions for the model.\n",
    "The cake  `C` is a step function with a high value of the left, a low value on the right, and a step at the center of the domain."
   ]
  },
  {
   "cell_type": "code",
   "execution_count": null,
   "id": "f1d3154f-0bfa-47d9-b5c3-ff0724c3ba97",
   "metadata": {},
   "outputs": [],
   "source": [
    "C = np.zeros_like(x)\n",
    "C_left = 500\n",
    "C_right = 0\n",
    "C[x <= LX / 2] = C_left\n",
    "C[x > LX / 2] = C_right"
   ]
  },
  {
   "cell_type": "markdown",
   "id": "343bfd1f-6895-467b-b0c9-f8329b65308b",
   "metadata": {},
   "source": [
    "plot the initial profile."
   ]
  },
  {
   "cell_type": "code",
   "execution_count": null,
   "id": "04267e48-a299-473c-8d35-7b6a2fed874d",
   "metadata": {},
   "outputs": [],
   "source": [
    "plt.figure()\n",
    "plt.plot(x, C, \"r\")\n",
    "plt.xlabel(\"X\")\n",
    "plt.ylabel(\"C\")\n",
    "plt.title(\"Initial profile\")"
   ]
  },
  {
   "cell_type": "markdown",
   "id": "e3bfd137-1f76-49ba-a281-9b401ef0063a",
   "metadata": {},
   "source": [
    "Set the number of time steps in the model.\n",
    "Calculate a stable time step using a stablity criterion."
   ]
  },
  {
   "cell_type": "code",
   "execution_count": null,
   "id": "773a0714-e2e5-4d7d-9f63-e00853855d6b",
   "metadata": {},
   "outputs": [],
   "source": [
    "nt = 5000\n",
    "dt = 0.5 * dx ** 2 / D"
   ]
  },
  {
   "cell_type": "markdown",
   "id": "922f68ee-6c64-4e09-952c-27a26345dd1b",
   "metadata": {},
   "source": [
    "loop over the time steps of the model, solving the diffusion equation using FTCS scmeg shown above.\n",
    "Note trge use of array operations on the varianle `C. the boundry conditions rmain fixed in each time step."
   ]
  },
  {
   "cell_type": "code",
   "execution_count": null,
   "id": "6d9a567b-a68b-4e9a-b95d-88afce7c9615",
   "metadata": {},
   "outputs": [],
   "source": [
    "for t in range(0,nt):\n",
    "    C[1:-1] += D * dt / dx ** 2 * (C[:-2] - 2*C[1:-1] + C[2:])"
   ]
  },
  {
   "cell_type": "markdown",
   "id": "4db4cae5-b35c-4d41-9ebe-9c7eee8d7ee5",
   "metadata": {},
   "source": [
    "plot the reult."
   ]
  },
  {
   "cell_type": "code",
   "execution_count": null,
   "id": "59ca9e61-7b56-4e56-ba88-2f9d1e83f274",
   "metadata": {},
   "outputs": [],
   "source": [
    "plt.plot(x, C, \"b\")\n",
    "plt.xlabel(\"x\")\n",
    "plt.ylabel(\"C\")\n",
    "plt.title(\"Final Profile\")"
   ]
  },
  {
   "cell_type": "code",
   "execution_count": null,
   "id": "9bcd9cad-4212-40ed-a8f5-f00a6e2c54e2",
   "metadata": {},
   "outputs": [],
   "source": []
  }
 ],
 "metadata": {
  "kernelspec": {
   "display_name": "Ivy",
   "language": "python",
   "name": "ivy"
  },
  "language_info": {
   "codemirror_mode": {
    "name": "ipython",
    "version": 3
   },
   "file_extension": ".py",
   "mimetype": "text/x-python",
   "name": "python",
   "nbconvert_exporter": "python",
   "pygments_lexer": "ipython3",
   "version": "3.13.3"
  }
 },
 "nbformat": 4,
 "nbformat_minor": 5
}
